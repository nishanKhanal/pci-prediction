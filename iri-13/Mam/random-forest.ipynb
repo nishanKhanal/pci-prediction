{
 "cells": [
  {
   "cell_type": "code",
   "execution_count": 8,
   "metadata": {},
   "outputs": [],
   "source": [
    "import pandas as pd\n",
    "from sklearn.model_selection import train_test_split\n",
    "from sklearn.ensemble import RandomForestRegressor\n",
    "from sklearn.metrics import mean_squared_error\n",
    "from math import sqrt\n",
    "import numpy as np\n",
    "\n",
    "\n"
   ]
  },
  {
   "cell_type": "code",
   "execution_count": 11,
   "metadata": {},
   "outputs": [
    {
     "name": "stdout",
     "output_type": "stream",
     "text": [
      "Root Mean Squared Error: 1.8652484934623643\n",
      "r2: 0.8298955512265755\n"
     ]
    }
   ],
   "source": [
    "# Step 1: Load the data\n",
    "# Replace 'path_to_your_file.csv' with the actual path to your CSV file\n",
    "df = pd.read_csv('final-dataset.csv')\n",
    "\n",
    "# Step 2: Prepare the data\n",
    "X = df.drop('Target IRI', axis=1)  # Features\n",
    "y = df['Target IRI']  # Target variable\n",
    "\n",
    "# Step 3: Split the data\n",
    "# Adjust test_size and random_state as needed\n",
    "X_train, X_test, y_train, y_test = train_test_split(X, y, test_size=0.2, random_state=42)\n",
    "\n",
    "# Step 4: Create and train the model\n",
    "model = RandomForestRegressor(n_estimators=100, random_state=42)\n",
    "model.fit(X_train, y_train)\n",
    "\n",
    "# Optional: Step 5: Evaluate the model\n",
    "y_pred = model.predict(X_test)\n",
    "mse = mean_squared_error(y_test, y_pred)\n",
    "r2 = (1 - mse/np.var(y_test))\n",
    "print(f'Root Mean Squared Error: {mse}')\n",
    "print(f'r2: {r2}')"
   ]
  },
  {
   "cell_type": "code",
   "execution_count": 5,
   "metadata": {},
   "outputs": [
    {
     "name": "stdout",
     "output_type": "stream",
     "text": [
      "Root Mean Squared Error (RMSE): 1.365741005265041\n",
      "Manually Calculated R^2 Score: 0.8298955512265755\n"
     ]
    }
   ],
   "source": [
    "import pandas as pd\n",
    "from sklearn.model_selection import train_test_split\n",
    "from sklearn.ensemble import RandomForestRegressor\n",
    "from sklearn.metrics import mean_squared_error\n",
    "from math import sqrt\n",
    "\n",
    "# Step 1: Load the data\n",
    "df = pd.read_csv('final-dataset.csv')\n",
    "\n",
    "# Step 2: Prepare the data\n",
    "X = df.drop('Target IRI', axis=1)  # Features\n",
    "y = df['Target IRI']  # Target variable\n",
    "\n",
    "# Step 3: Split the data\n",
    "X_train, X_test, y_train, y_test = train_test_split(X, y, test_size=0.2, random_state=42)\n",
    "\n",
    "# Step 4: Create and train the model\n",
    "model = RandomForestRegressor(n_estimators=100, random_state=42)\n",
    "model.fit(X_train, y_train)\n",
    "\n",
    "# Step 5: Evaluate the model\n",
    "y_pred = model.predict(X_test)\n",
    "\n",
    "# Calculate RMSE for reference\n",
    "rmse = sqrt(mean_squared_error(y_test, y_pred))\n",
    "print(f'Root Mean Squared Error (RMSE): {rmse}')\n",
    "\n",
    "# Manually calculate R^2\n",
    "y_mean = y_test.mean()\n",
    "ss_total = sum((y_test - y_mean) ** 2)\n",
    "ss_res = sum((y_test - y_pred) ** 2)\n",
    "r2_manual = 1 - (ss_res / ss_total)\n",
    "\n",
    "print(f'Manually Calculated R^2 Score: {r2_manual}')"
   ]
  },
  {
   "cell_type": "markdown",
   "metadata": {},
   "source": [
    "# Cross Validation"
   ]
  },
  {
   "cell_type": "code",
   "execution_count": 21,
   "metadata": {},
   "outputs": [
    {
     "name": "stdout",
     "output_type": "stream",
     "text": [
      "R^2 scores for each fold: [0.95859947 0.74564861 0.67794096 0.85493768 0.39229649 0.54683957\n",
      " 0.69238688 0.70118243 0.79310518 0.622269  ]\n",
      "Average R^2 score: 0.6985206280149819\n"
     ]
    }
   ],
   "source": [
    "import pandas as pd\n",
    "from sklearn.model_selection import cross_val_score\n",
    "from sklearn.ensemble import RandomForestRegressor\n",
    "\n",
    "# Load the data\n",
    "df = pd.read_csv('final-dataset.csv')\n",
    "\n",
    "# Prepare the data\n",
    "X = df.drop('Target IRI', axis=1)  # Features\n",
    "y = df['Target IRI']  # Target variable\n",
    "\n",
    "# Initialize the model\n",
    "model = RandomForestRegressor(n_estimators=100, random_state=2)\n",
    "\n",
    "# Perform cross-validation\n",
    "scores = cross_val_score(model, X, y, cv=10, scoring='r2')\n",
    "\n",
    "# Print the scores for each fold\n",
    "print(\"R^2 scores for each fold:\", scores)\n",
    "\n",
    "# Calculate the average R^2 score across all folds\n",
    "print(\"Average R^2 score:\", scores.mean())"
   ]
  },
  {
   "cell_type": "code",
   "execution_count": null,
   "metadata": {},
   "outputs": [],
   "source": []
  }
 ],
 "metadata": {
  "kernelspec": {
   "display_name": "saurav_sir_ann",
   "language": "python",
   "name": "python3"
  },
  "language_info": {
   "codemirror_mode": {
    "name": "ipython",
    "version": 3
   },
   "file_extension": ".py",
   "mimetype": "text/x-python",
   "name": "python",
   "nbconvert_exporter": "python",
   "pygments_lexer": "ipython3",
   "version": "3.10.12"
  }
 },
 "nbformat": 4,
 "nbformat_minor": 2
}
