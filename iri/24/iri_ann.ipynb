{
 "cells": [
  {
   "cell_type": "code",
   "execution_count": 15,
   "metadata": {},
   "outputs": [],
   "source": [
    "import math\n",
    "import pandas as pd\n",
    "import tensorflow as tf\n",
    "import matplotlib.pyplot as plt\n",
    "from tensorflow.keras import Model\n",
    "from tensorflow.keras import Sequential\n",
    "from tensorflow.keras.optimizers import Adam\n",
    "from sklearn.preprocessing import StandardScaler\n",
    "from tensorflow.keras.layers import Dense, Dropout\n",
    "from sklearn.model_selection import train_test_split\n",
    "from tensorflow.keras.losses import MeanSquaredLogarithmicError, MeanSquaredError\n",
    "\n",
    "from sklearn.metrics import r2_score, mean_squared_error\n",
    "\n"
   ]
  },
  {
   "cell_type": "code",
   "execution_count": 16,
   "metadata": {},
   "outputs": [
    {
     "name": "stderr",
     "output_type": "stream",
     "text": [
      "2023-07-29 15:36:44.043841: I tensorflow/compiler/xla/stream_executor/cuda/cuda_gpu_executor.cc:995] successful NUMA node read from SysFS had negative value (-1), but there must be at least one NUMA node, so returning NUMA node zero. See more at https://github.com/torvalds/linux/blob/v6.0/Documentation/ABI/testing/sysfs-bus-pci#L344-L355\n",
      "2023-07-29 15:36:44.044083: W tensorflow/core/common_runtime/gpu/gpu_device.cc:1960] Cannot dlopen some GPU libraries. Please make sure the missing libraries mentioned above are installed properly if you would like to use GPU. Follow the guide at https://www.tensorflow.org/install/gpu for how to download and setup the required libraries for your platform.\n",
      "Skipping registering GPU devices...\n"
     ]
    }
   ],
   "source": [
    "# x_train = features, y_train = target\n",
    "\n",
    "df = pd.read_csv('iri-cleaned.csv')\n",
    "\n",
    "\n",
    "x = df.drop('IRI',axis=1)\n",
    "y = df.IRI\n",
    "\n",
    "\n",
    "# Seed value\n",
    "# Apparently you may use different seed values at each stage\n",
    "seed_value= 0\n",
    "\n",
    "# 1. Set the `PYTHONHASHSEED` environment variable at a fixed value\n",
    "import os\n",
    "os.environ['PYTHONHASHSEED']=str(seed_value)\n",
    "\n",
    "# 2. Set the `python` built-in pseudo-random generator at a fixed value\n",
    "import random\n",
    "random.seed(seed_value)\n",
    "\n",
    "# 3. Set the `numpy` pseudo-random generator at a fixed value\n",
    "import numpy as np\n",
    "np.random.seed(seed_value)\n",
    "\n",
    "# 4. Set the `tensorflow` pseudo-random generator at a fixed value\n",
    "import tensorflow as tf\n",
    "tf.random.set_seed(seed_value)\n",
    "# for later versions: \n",
    "# tf.compat.v1.set_random_seed(seed_value)\n",
    "\n",
    "# 5. Configure a new global `tensorflow` session\n",
    "# import keras.backend.tensorflow_backend as K\n",
    "# session_conf =  tf.compat.v1.ConfigProto(intra_op_parallelism_threads=1, inter_op_parallelism_threads=1)\n",
    "# sess = tf.compat.v1.Session(graph=tf.compat.v1.get_default_graph(), config=session_conf)\n",
    "# K.set_session(sess)\n",
    "# for later versions:\n",
    "session_conf = tf.compat.v1.ConfigProto(intra_op_parallelism_threads=1, inter_op_parallelism_threads=1)\n",
    "sess = tf.compat.v1.Session(graph=tf.compat.v1.get_default_graph(), config=session_conf)\n",
    "tf.compat.v1.keras.backend.set_session(sess)\n",
    "\n",
    "x_train, x_test, y_train, y_test = train_test_split(x, y, train_size=0.8, random_state=seed_value)"
   ]
  },
  {
   "cell_type": "code",
   "execution_count": 17,
   "metadata": {},
   "outputs": [],
   "source": [
    "def scale_datasets(x_train, x_test):\n",
    "\n",
    "  \"\"\"\n",
    "  Standard Scale test and train data\n",
    "  Z - Score normalization\n",
    "  \"\"\"\n",
    "  standard_scaler = StandardScaler()\n",
    "  x_train_scaled = pd.DataFrame(\n",
    "      standard_scaler.fit_transform(x_train),\n",
    "      columns=x_train.columns\n",
    "  )\n",
    "  x_test_scaled = pd.DataFrame(\n",
    "      standard_scaler.transform(x_test),\n",
    "      columns = x_test.columns\n",
    "  )\n",
    "  return x_train_scaled, x_test_scaled\n",
    "x_train_scaled, x_test_scaled = scale_datasets(x_train, x_test)"
   ]
  },
  {
   "cell_type": "code",
   "execution_count": 18,
   "metadata": {},
   "outputs": [],
   "source": [
    "hidden_units1 = 16\n",
    "# hidden_units2 = 12\n",
    "# hidden_units3 = 12\n",
    "# hidden_units1 = 160\n",
    "# hidden_units2 = 480\n",
    "# hidden_units3 = 256\n",
    "learning_rate = 0.01\n",
    "# Creating model using the Sequential in tensorflow\n",
    "def build_model_using_sequential():\n",
    "  model = Sequential([\n",
    "    Dense(hidden_units1, kernel_initializer='normal', activation='relu'),\n",
    "    # Dropout(0.2),\n",
    "    # Dense(hidden_units2, kernel_initializer='normal', activation='relu'),\n",
    "    # Dropout(0.2),\n",
    "    # Dense(hidden_units3, kernel_initializer='normal', activation='relu'),\n",
    "    Dense(1, kernel_initializer='normal', activation='linear')\n",
    "  ])\n",
    "  return model\n",
    "# build the model\n",
    "model = build_model_using_sequential()"
   ]
  },
  {
   "cell_type": "code",
   "execution_count": 19,
   "metadata": {},
   "outputs": [],
   "source": [
    "# import tensorflow as tf\n",
    "# from tensorflow.keras.metrics import Metric\n",
    "# from tensorflow.keras import backend as K\n",
    "\n",
    "# class R2KerasMetric(Metric):\n",
    "#     def __init__(self, name='r2_keras', **kwargs):\n",
    "#         super(R2KerasMetric, self).__init__(name=name, **kwargs)\n",
    "#         self.r2_values = self.add_weight(name='r2_values', initializer='zeros')\n",
    "#         self.total_samples = self.add_weight(name='total_samples', initializer='zeros')\n",
    "\n",
    "#     def update_state(self, y_true, y_pred, sample_weight=None):\n",
    "#         y_true_flat = tf.reshape(y_true, shape=(-1,))\n",
    "#         y_pred_flat = tf.reshape(y_pred, shape=(-1,))\n",
    "#         residual = y_true_flat - y_pred_flat\n",
    "#         ss_res = K.sum(K.square(residual))\n",
    "#         ss_tot = K.sum(K.square(y_true_flat - K.mean(y_true_flat)))\n",
    "#         r2 = 1 - ss_res / (ss_tot + K.epsilon())\n",
    "#         current_samples = tf.cast(tf.size(y_true), dtype=tf.float32)\n",
    "#         self.r2_values.assign_add(r2 * current_samples)\n",
    "#         self.total_samples.assign_add(current_samples)\n",
    "\n",
    "#     def result(self):\n",
    "#         return self.r2_values / self.total_samples\n",
    "\n",
    "#     def reset_states(self):\n",
    "#         self.r2_values.assign(0.0)\n",
    "#         self.total_samples.assign(0.0)\n",
    "\n",
    "#     # Add the variables property as required by Keras\n",
    "#     @property\n",
    "#     def variables(self):\n",
    "#         return self._collected_trainable_weights\n",
    "\n",
    "#     # Override the get_config method to avoid issues with serialization\n",
    "#     def get_config(self):\n",
    "#         return {}"
   ]
  },
  {
   "cell_type": "code",
   "execution_count": 20,
   "metadata": {},
   "outputs": [],
   "source": [
    "# def r2_keras(y_true, y_pred):\n",
    "#     r2 = r2_score(y_true, y_pred)\n",
    "#     return tf.convert_to_tensor(r2, dtype=tf.float32)  # Convert the result to a tensor\n",
    "\n",
    "\n",
    "# loss function\n",
    "msle = MeanSquaredLogarithmicError()\n",
    "mse = MeanSquaredError()\n",
    "model.compile(\n",
    "    loss=mse, \n",
    "    optimizer=Adam(learning_rate=learning_rate), \n",
    "    metrics=['mse' ]\n",
    ")\n"
   ]
  },
  {
   "cell_type": "code",
   "execution_count": 21,
   "metadata": {},
   "outputs": [
    {
     "name": "stdout",
     "output_type": "stream",
     "text": [
      "Epoch 1/8\n"
     ]
    },
    {
     "name": "stdout",
     "output_type": "stream",
     "text": [
      "6/6 [==============================] - 1s 39ms/step - loss: 31.9876 - mse: 31.9876 - val_loss: 25.6357 - val_mse: 25.6357\n",
      "Epoch 2/8\n",
      "6/6 [==============================] - 0s 10ms/step - loss: 28.5023 - mse: 28.5023 - val_loss: 22.4301 - val_mse: 22.4301\n",
      "Epoch 3/8\n",
      "6/6 [==============================] - 0s 10ms/step - loss: 23.9804 - mse: 23.9804 - val_loss: 18.0718 - val_mse: 18.0718\n",
      "Epoch 4/8\n",
      "6/6 [==============================] - 0s 10ms/step - loss: 18.1095 - mse: 18.1095 - val_loss: 13.1346 - val_mse: 13.1346\n",
      "Epoch 5/8\n",
      "6/6 [==============================] - 0s 10ms/step - loss: 12.5948 - mse: 12.5948 - val_loss: 8.7180 - val_mse: 8.7180\n",
      "Epoch 6/8\n",
      "6/6 [==============================] - 0s 10ms/step - loss: 8.4697 - mse: 8.4697 - val_loss: 5.9525 - val_mse: 5.9525\n",
      "Epoch 7/8\n",
      "6/6 [==============================] - 0s 9ms/step - loss: 6.3307 - mse: 6.3307 - val_loss: 5.2003 - val_mse: 5.2003\n",
      "Epoch 8/8\n",
      "6/6 [==============================] - 0s 8ms/step - loss: 5.2173 - mse: 5.2173 - val_loss: 5.5456 - val_mse: 5.5456\n"
     ]
    }
   ],
   "source": [
    "# train the model\n",
    "history = model.fit(\n",
    "    x_train_scaled.values, \n",
    "    y_train.values, \n",
    "    epochs=8, \n",
    "    batch_size=32,\n",
    "    validation_split=0.2\n",
    ")"
   ]
  },
  {
   "cell_type": "code",
   "execution_count": 22,
   "metadata": {},
   "outputs": [
    {
     "data": {
      "image/png": "[encoded data removed]",
      "text/plain": [
       "<Figure size 640x480 with 1 Axes>"
      ]
     },
     "metadata": {},
     "output_type": "display_data"
    }
   ],
   "source": [
    "def plot_history(history, key):\n",
    "  plt.plot(history.history[key])\n",
    "  plt.plot(history.history['val_'+key])\n",
    "  plt.xlabel(\"Epochs\")\n",
    "  plt.ylabel(key)\n",
    "  plt.legend([key, 'val_'+key])\n",
    "  plt.show()\n",
    "# Plot the history\n",
    "plot_history(history, 'mse')"
   ]
  },
  {
   "cell_type": "code",
   "execution_count": 26,
   "metadata": {},
   "outputs": [
    {
     "data": {
      "text/plain": [
       "'2.13.0'"
      ]
     },
     "execution_count": 26,
     "metadata": {},
     "output_type": "execute_result"
    }
   ],
   "source": [
    "tf.__version__"
   ]
  },
  {
   "cell_type": "code",
   "execution_count": 27,
   "metadata": {},
   "outputs": [
    {
     "name": "stdout",
     "output_type": "stream",
     "text": [
      "2/2 [==============================] - 0s 5ms/step - loss: 3.8535 - mse: 3.8535\n",
      "test_r2 = 0.4424023853794139\n",
      "train_r2 = 0.24505748448781872\n",
      "validation_r2 = 0.197545980304494\n"
     ]
    }
   ],
   "source": [
    "import numpy as np\n",
    "test_mse = model.evaluate(x_test_scaled,y_test)[0]\n",
    "\n",
    "test_r2 = 1- test_mse / np.var(y)\n",
    "train_r2 = 1 - (history.history['mse'][-1]) / np.var(y)\n",
    "validation_r2 = 1 - (history.history['val_mse'][-1] / np.var(y))\n",
    "print(f\"test_r2 = {test_r2}\")\n",
    "print(f\"train_r2 = {train_r2}\")\n",
    "print(f\"validation_r2 = {validation_r2}\")"
   ]
  },
  {
   "cell_type": "code",
   "execution_count": 25,
   "metadata": {},
   "outputs": [
    {
     "name": "stdout",
     "output_type": "stream",
     "text": [
      "2/2 [==============================] - 0s 4ms/step - loss: 3.8535 - mse: 3.8535\n"
     ]
    },
    {
     "data": {
      "text/plain": [
       "0.4424023853794139"
      ]
     },
     "execution_count": 25,
     "metadata": {},
     "output_type": "execute_result"
    }
   ],
   "source": [
    "tf.__version__\n",
    "\n",
    "test_mse = model.evaluate(x_test_scaled,y_test)[0]\n",
    "import numpy as np\n",
    "1- test_mse / np.var(y)"
   ]
  },
  {
   "cell_type": "code",
   "execution_count": null,
   "metadata": {},
   "outputs": [],
   "source": []
  },
  {
   "cell_type": "code",
   "execution_count": null,
   "metadata": {},
   "outputs": [],
   "source": []
  },
  {
   "cell_type": "code",
   "execution_count": null,
   "metadata": {},
   "outputs": [],
   "source": []
  }
 ],
 "metadata": {
  "kernelspec": {
   "display_name": "base",
   "language": "python",
   "name": "python3"
  },
  "language_info": {
   "codemirror_mode": {
    "name": "ipython",
    "version": 3
   },
   "file_extension": ".py",
   "mimetype": "text/x-python",
   "name": "python",
   "nbconvert_exporter": "python",
   "pygments_lexer": "ipython3",
   "version": "3.10.12"
  },
  "orig_nbformat": 4
 },
 "nbformat": 4,
 "nbformat_minor": 2
}
