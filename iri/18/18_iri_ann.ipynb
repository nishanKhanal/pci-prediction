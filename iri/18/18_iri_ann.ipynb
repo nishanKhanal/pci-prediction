{
 "cells": [
  {
   "cell_type": "code",
   "execution_count": 49,
   "metadata": {},
   "outputs": [],
   "source": [
    "import math\n",
    "import pandas as pd\n",
    "import tensorflow as tf\n",
    "import matplotlib.pyplot as plt\n",
    "from tensorflow.keras import Model\n",
    "from tensorflow.keras import Sequential\n",
    "from tensorflow.keras.optimizers import Adam\n",
    "from sklearn.preprocessing import StandardScaler\n",
    "from tensorflow.keras.layers import Dense, Dropout\n",
    "from sklearn.model_selection import train_test_split\n",
    "from tensorflow.keras.losses import MeanSquaredLogarithmicError, MeanSquaredError\n",
    "\n",
    "from sklearn.metrics import r2_score, mean_squared_error\n",
    "\n"
   ]
  },
  {
   "cell_type": "code",
   "execution_count": 50,
   "metadata": {},
   "outputs": [
    {
     "name": "stderr",
     "output_type": "stream",
     "text": [
      "2023-07-29 15:34:47.527745: I tensorflow/compiler/xla/stream_executor/cuda/cuda_gpu_executor.cc:995] successful NUMA node read from SysFS had negative value (-1), but there must be at least one NUMA node, so returning NUMA node zero. See more at https://github.com/torvalds/linux/blob/v6.0/Documentation/ABI/testing/sysfs-bus-pci#L344-L355\n",
      "2023-07-29 15:34:47.527992: W tensorflow/core/common_runtime/gpu/gpu_device.cc:1960] Cannot dlopen some GPU libraries. Please make sure the missing libraries mentioned above are installed properly if you would like to use GPU. Follow the guide at https://www.tensorflow.org/install/gpu for how to download and setup the required libraries for your platform.\n",
      "Skipping registering GPU devices...\n"
     ]
    }
   ],
   "source": [
    "# x_train = features, y_train = target\n",
    "\n",
    "df = pd.read_csv('18-iri-cleaned.csv')\n",
    "\n",
    "\n",
    "x = df.drop('IRI',axis=1)\n",
    "y = df.IRI\n",
    "\n",
    "\n",
    "# Seed value\n",
    "# Apparently you may use different seed values at each stage\n",
    "seed_value= 1\n",
    "\n",
    "# 1. Set the `PYTHONHASHSEED` environment variable at a fixed value\n",
    "import os\n",
    "os.environ['PYTHONHASHSEED']=str(seed_value)\n",
    "\n",
    "# 2. Set the `python` built-in pseudo-random generator at a fixed value\n",
    "import random\n",
    "random.seed(seed_value)\n",
    "\n",
    "# 3. Set the `numpy` pseudo-random generator at a fixed value\n",
    "import numpy as np\n",
    "np.random.seed(seed_value)\n",
    "\n",
    "# 4. Set the `tensorflow` pseudo-random generator at a fixed value\n",
    "import tensorflow as tf\n",
    "tf.random.set_seed(seed_value)\n",
    "# for later versions: \n",
    "# tf.compat.v1.set_random_seed(seed_value)\n",
    "\n",
    "# 5. Configure a new global `tensorflow` session\n",
    "# import keras.backend.tensorflow_backend as K\n",
    "# session_conf =  tf.compat.v1.ConfigProto(intra_op_parallelism_threads=1, inter_op_parallelism_threads=1)\n",
    "# sess = tf.compat.v1.Session(graph=tf.compat.v1.get_default_graph(), config=session_conf)\n",
    "# K.set_session(sess)\n",
    "# for later versions:\n",
    "session_conf = tf.compat.v1.ConfigProto(intra_op_parallelism_threads=1, inter_op_parallelism_threads=1)\n",
    "sess = tf.compat.v1.Session(graph=tf.compat.v1.get_default_graph(), config=session_conf)\n",
    "tf.compat.v1.keras.backend.set_session(sess)\n",
    "\n",
    "x_train, x_test, y_train, y_test = train_test_split(x, y, train_size=0.9, random_state=seed_value)"
   ]
  },
  {
   "cell_type": "code",
   "execution_count": 51,
   "metadata": {},
   "outputs": [],
   "source": [
    "def scale_datasets(x_train, x_test):\n",
    "\n",
    "  \"\"\"\n",
    "  Standard Scale test and train data\n",
    "  Z - Score normalization\n",
    "  \"\"\"\n",
    "  standard_scaler = StandardScaler()\n",
    "  x_train_scaled = pd.DataFrame(\n",
    "      standard_scaler.fit_transform(x_train),\n",
    "      columns=x_train.columns\n",
    "  )\n",
    "  x_test_scaled = pd.DataFrame(\n",
    "      standard_scaler.transform(x_test),\n",
    "      columns = x_test.columns\n",
    "  )\n",
    "  return x_train_scaled, x_test_scaled\n",
    "x_train_scaled, x_test_scaled = scale_datasets(x_train, x_test)"
   ]
  },
  {
   "cell_type": "code",
   "execution_count": 52,
   "metadata": {},
   "outputs": [],
   "source": [
    "hidden_units1 = 12\n",
    "# hidden_units2 = 12\n",
    "# hidden_units3 = 12\n",
    "# hidden_units1 = 160\n",
    "# hidden_units2 = 480\n",
    "# hidden_units3 = 256\n",
    "learning_rate = 0.01\n",
    "# Creating model using the Sequential in tensorflow\n",
    "def build_model_using_sequential():\n",
    "  model = Sequential([\n",
    "    Dense(hidden_units1, kernel_initializer='normal', activation='relu'),\n",
    "    # Dropout(0.2),\n",
    "    # Dense(hidden_units2, kernel_initializer='normal', activation='relu'),\n",
    "    # Dropout(0.2),\n",
    "    # Dense(hidden_units3, kernel_initializer='normal', activation='relu'),\n",
    "    Dense(1, kernel_initializer='normal', activation='linear')\n",
    "  ])\n",
    "  return model\n",
    "# build the model\n",
    "model = build_model_using_sequential()"
   ]
  },
  {
   "cell_type": "code",
   "execution_count": 53,
   "metadata": {},
   "outputs": [],
   "source": [
    "# import tensorflow as tf\n",
    "# from tensorflow.keras.metrics import Metric\n",
    "# from tensorflow.keras import backend as K\n",
    "\n",
    "# class R2KerasMetric(Metric):\n",
    "#     def __init__(self, name='r2_keras', **kwargs):\n",
    "#         super(R2KerasMetric, self).__init__(name=name, **kwargs)\n",
    "#         self.r2_values = self.add_weight(name='r2_values', initializer='zeros')\n",
    "#         self.total_samples = self.add_weight(name='total_samples', initializer='zeros')\n",
    "\n",
    "#     def update_state(self, y_true, y_pred, sample_weight=None):\n",
    "#         y_true_flat = tf.reshape(y_true, shape=(-1,))\n",
    "#         y_pred_flat = tf.reshape(y_pred, shape=(-1,))\n",
    "#         residual = y_true_flat - y_pred_flat\n",
    "#         ss_res = K.sum(K.square(residual))\n",
    "#         ss_tot = K.sum(K.square(y_true_flat - K.mean(y_true_flat)))\n",
    "#         r2 = 1 - ss_res / (ss_tot + K.epsilon())\n",
    "#         current_samples = tf.cast(tf.size(y_true), dtype=tf.float32)\n",
    "#         self.r2_values.assign_add(r2 * current_samples)\n",
    "#         self.total_samples.assign_add(current_samples)\n",
    "\n",
    "#     def result(self):\n",
    "#         return self.r2_values / self.total_samples\n",
    "\n",
    "#     def reset_states(self):\n",
    "#         self.r2_values.assign(0.0)\n",
    "#         self.total_samples.assign(0.0)\n",
    "\n",
    "#     # Add the variables property as required by Keras\n",
    "#     @property\n",
    "#     def variables(self):\n",
    "#         return self._collected_trainable_weights\n",
    "\n",
    "#     # Override the get_config method to avoid issues with serialization\n",
    "#     def get_config(self):\n",
    "#         return {}"
   ]
  },
  {
   "cell_type": "code",
   "execution_count": 54,
   "metadata": {},
   "outputs": [],
   "source": [
    "# def r2_keras(y_true, y_pred):\n",
    "#     r2 = r2_score(y_true, y_pred)\n",
    "#     return tf.convert_to_tensor(r2, dtype=tf.float32)  # Convert the result to a tensor\n",
    "\n",
    "\n",
    "# loss function\n",
    "msle = MeanSquaredLogarithmicError()\n",
    "mse = MeanSquaredError()\n",
    "model.compile(\n",
    "    loss=mse, \n",
    "    optimizer=Adam(learning_rate=learning_rate), \n",
    "    metrics=['mse' ]\n",
    ")\n"
   ]
  },
  {
   "cell_type": "code",
   "execution_count": 55,
   "metadata": {},
   "outputs": [
    {
     "name": "stdout",
     "output_type": "stream",
     "text": [
      "Epoch 1/50\n"
     ]
    },
    {
     "name": "stdout",
     "output_type": "stream",
     "text": [
      "7/7 [==============================] - 1s 35ms/step - loss: 32.8018 - mse: 32.8018 - val_loss: 28.3369 - val_mse: 28.3369\n",
      "Epoch 2/50\n",
      "7/7 [==============================] - 0s 8ms/step - loss: 30.5967 - mse: 30.5967 - val_loss: 26.0780 - val_mse: 26.0780\n",
      "Epoch 3/50\n",
      "7/7 [==============================] - 0s 9ms/step - loss: 26.9418 - mse: 26.9418 - val_loss: 22.4636 - val_mse: 22.4636\n",
      "Epoch 4/50\n",
      "7/7 [==============================] - 0s 10ms/step - loss: 21.5840 - mse: 21.5840 - val_loss: 17.6222 - val_mse: 17.6222\n",
      "Epoch 5/50\n",
      "7/7 [==============================] - 0s 8ms/step - loss: 15.2332 - mse: 15.2332 - val_loss: 12.6089 - val_mse: 12.6089\n",
      "Epoch 6/50\n",
      "7/7 [==============================] - 0s 8ms/step - loss: 9.4733 - mse: 9.4733 - val_loss: 9.0476 - val_mse: 9.0476\n",
      "Epoch 7/50\n",
      "7/7 [==============================] - 0s 7ms/step - loss: 6.3019 - mse: 6.3019 - val_loss: 7.8313 - val_mse: 7.8313\n",
      "Epoch 8/50\n",
      "7/7 [==============================] - 0s 10ms/step - loss: 5.7419 - mse: 5.7419 - val_loss: 8.1103 - val_mse: 8.1103\n",
      "Epoch 9/50\n",
      "7/7 [==============================] - 0s 10ms/step - loss: 5.1223 - mse: 5.1223 - val_loss: 7.6326 - val_mse: 7.6326\n",
      "Epoch 10/50\n",
      "7/7 [==============================] - 0s 9ms/step - loss: 4.2985 - mse: 4.2985 - val_loss: 7.7744 - val_mse: 7.7744\n",
      "Epoch 11/50\n",
      "7/7 [==============================] - 0s 7ms/step - loss: 3.9274 - mse: 3.9274 - val_loss: 7.6615 - val_mse: 7.6615\n",
      "Epoch 12/50\n",
      "7/7 [==============================] - 0s 7ms/step - loss: 3.7025 - mse: 3.7025 - val_loss: 7.1934 - val_mse: 7.1934\n",
      "Epoch 13/50\n",
      "7/7 [==============================] - 0s 6ms/step - loss: 3.5102 - mse: 3.5102 - val_loss: 7.0793 - val_mse: 7.0793\n",
      "Epoch 14/50\n",
      "7/7 [==============================] - 0s 7ms/step - loss: 3.2653 - mse: 3.2653 - val_loss: 6.7829 - val_mse: 6.7829\n",
      "Epoch 15/50\n",
      "7/7 [==============================] - 0s 8ms/step - loss: 3.1531 - mse: 3.1531 - val_loss: 6.3335 - val_mse: 6.3335\n",
      "Epoch 16/50\n",
      "7/7 [==============================] - 0s 7ms/step - loss: 3.0615 - mse: 3.0615 - val_loss: 6.2603 - val_mse: 6.2603\n",
      "Epoch 17/50\n",
      "7/7 [==============================] - 0s 7ms/step - loss: 2.9650 - mse: 2.9650 - val_loss: 5.9139 - val_mse: 5.9139\n",
      "Epoch 18/50\n",
      "7/7 [==============================] - 0s 7ms/step - loss: 2.8885 - mse: 2.8885 - val_loss: 5.6882 - val_mse: 5.6882\n",
      "Epoch 19/50\n",
      "7/7 [==============================] - 0s 8ms/step - loss: 2.8284 - mse: 2.8284 - val_loss: 5.3990 - val_mse: 5.3990\n",
      "Epoch 20/50\n",
      "7/7 [==============================] - 0s 9ms/step - loss: 2.7558 - mse: 2.7558 - val_loss: 5.4010 - val_mse: 5.4010\n",
      "Epoch 21/50\n",
      "7/7 [==============================] - 0s 7ms/step - loss: 2.7199 - mse: 2.7199 - val_loss: 5.2418 - val_mse: 5.2418\n",
      "Epoch 22/50\n",
      "7/7 [==============================] - 0s 11ms/step - loss: 2.7094 - mse: 2.7094 - val_loss: 5.2451 - val_mse: 5.2451\n",
      "Epoch 23/50\n",
      "7/7 [==============================] - 0s 8ms/step - loss: 2.6559 - mse: 2.6559 - val_loss: 5.1521 - val_mse: 5.1521\n",
      "Epoch 24/50\n",
      "7/7 [==============================] - 0s 6ms/step - loss: 2.6381 - mse: 2.6381 - val_loss: 5.3121 - val_mse: 5.3121\n",
      "Epoch 25/50\n",
      "7/7 [==============================] - 0s 6ms/step - loss: 2.5665 - mse: 2.5665 - val_loss: 5.3431 - val_mse: 5.3431\n",
      "Epoch 26/50\n",
      "7/7 [==============================] - 0s 7ms/step - loss: 2.5889 - mse: 2.5889 - val_loss: 5.2192 - val_mse: 5.2192\n",
      "Epoch 27/50\n",
      "7/7 [==============================] - 0s 6ms/step - loss: 2.5421 - mse: 2.5421 - val_loss: 5.1653 - val_mse: 5.1653\n",
      "Epoch 28/50\n",
      "7/7 [==============================] - 0s 7ms/step - loss: 2.5138 - mse: 2.5138 - val_loss: 4.9821 - val_mse: 4.9821\n",
      "Epoch 29/50\n",
      "7/7 [==============================] - 0s 6ms/step - loss: 2.4853 - mse: 2.4853 - val_loss: 5.0232 - val_mse: 5.0232\n",
      "Epoch 30/50\n",
      "7/7 [==============================] - 0s 6ms/step - loss: 2.4611 - mse: 2.4611 - val_loss: 4.8927 - val_mse: 4.8927\n",
      "Epoch 31/50\n",
      "7/7 [==============================] - 0s 6ms/step - loss: 2.4675 - mse: 2.4675 - val_loss: 4.9546 - val_mse: 4.9546\n",
      "Epoch 32/50\n",
      "7/7 [==============================] - 0s 6ms/step - loss: 2.4568 - mse: 2.4568 - val_loss: 4.8854 - val_mse: 4.8854\n",
      "Epoch 33/50\n",
      "7/7 [==============================] - 0s 6ms/step - loss: 2.4090 - mse: 2.4090 - val_loss: 4.7590 - val_mse: 4.7590\n",
      "Epoch 34/50\n",
      "7/7 [==============================] - 0s 6ms/step - loss: 2.3828 - mse: 2.3828 - val_loss: 4.9498 - val_mse: 4.9498\n",
      "Epoch 35/50\n",
      "7/7 [==============================] - 0s 6ms/step - loss: 2.3885 - mse: 2.3885 - val_loss: 4.9899 - val_mse: 4.9899\n",
      "Epoch 36/50\n",
      "7/7 [==============================] - 0s 6ms/step - loss: 2.3663 - mse: 2.3663 - val_loss: 4.6949 - val_mse: 4.6949\n",
      "Epoch 37/50\n",
      "7/7 [==============================] - 0s 6ms/step - loss: 2.3555 - mse: 2.3555 - val_loss: 4.8682 - val_mse: 4.8682\n",
      "Epoch 38/50\n",
      "7/7 [==============================] - 0s 6ms/step - loss: 2.3215 - mse: 2.3215 - val_loss: 5.5001 - val_mse: 5.5001\n",
      "Epoch 39/50\n",
      "7/7 [==============================] - 0s 6ms/step - loss: 2.3927 - mse: 2.3927 - val_loss: 5.6009 - val_mse: 5.6009\n",
      "Epoch 40/50\n",
      "7/7 [==============================] - 0s 6ms/step - loss: 2.2969 - mse: 2.2969 - val_loss: 5.1522 - val_mse: 5.1522\n",
      "Epoch 41/50\n",
      "7/7 [==============================] - 0s 6ms/step - loss: 2.2833 - mse: 2.2833 - val_loss: 4.9170 - val_mse: 4.9170\n",
      "Epoch 42/50\n",
      "7/7 [==============================] - 0s 6ms/step - loss: 2.2477 - mse: 2.2477 - val_loss: 4.7740 - val_mse: 4.7740\n",
      "Epoch 43/50\n",
      "7/7 [==============================] - 0s 6ms/step - loss: 2.2403 - mse: 2.2403 - val_loss: 4.8259 - val_mse: 4.8259\n",
      "Epoch 44/50\n",
      "7/7 [==============================] - 0s 6ms/step - loss: 2.2135 - mse: 2.2135 - val_loss: 4.9573 - val_mse: 4.9573\n",
      "Epoch 45/50\n",
      "7/7 [==============================] - 0s 6ms/step - loss: 2.2175 - mse: 2.2175 - val_loss: 4.8760 - val_mse: 4.8760\n",
      "Epoch 46/50\n",
      "7/7 [==============================] - 0s 6ms/step - loss: 2.1951 - mse: 2.1951 - val_loss: 4.7683 - val_mse: 4.7683\n",
      "Epoch 47/50\n",
      "7/7 [==============================] - 0s 6ms/step - loss: 2.1861 - mse: 2.1861 - val_loss: 4.7895 - val_mse: 4.7895\n",
      "Epoch 48/50\n",
      "7/7 [==============================] - 0s 6ms/step - loss: 2.1793 - mse: 2.1793 - val_loss: 4.8759 - val_mse: 4.8759\n",
      "Epoch 49/50\n",
      "7/7 [==============================] - 0s 6ms/step - loss: 2.1633 - mse: 2.1633 - val_loss: 4.9078 - val_mse: 4.9078\n",
      "Epoch 50/50\n",
      "7/7 [==============================] - 0s 6ms/step - loss: 2.1698 - mse: 2.1698 - val_loss: 5.1291 - val_mse: 5.1291\n"
     ]
    }
   ],
   "source": [
    "# train the model\n",
    "history = model.fit(\n",
    "    x_train_scaled.values, \n",
    "    y_train.values, \n",
    "    epochs=50, \n",
    "    batch_size=32,\n",
    "    validation_split=0.2\n",
    ")"
   ]
  },
  {
   "cell_type": "code",
   "execution_count": 56,
   "metadata": {},
   "outputs": [
    {
     "data": {
      "image/png": "[encoded data removed]",
      "text/plain": [
       "<Figure size 640x480 with 1 Axes>"
      ]
     },
     "metadata": {},
     "output_type": "display_data"
    }
   ],
   "source": [
    "def plot_history(history, key):\n",
    "  plt.plot(history.history[key])\n",
    "  plt.plot(history.history['val_'+key])\n",
    "  plt.xlabel(\"Epochs\")\n",
    "  plt.ylabel(key)\n",
    "  plt.legend([key, 'val_'+key])\n",
    "  plt.show()\n",
    "# Plot the history\n",
    "plot_history(history, 'mse')"
   ]
  },
  {
   "cell_type": "code",
   "execution_count": 57,
   "metadata": {},
   "outputs": [
    {
     "data": {
      "text/plain": [
       "'2.13.0'"
      ]
     },
     "execution_count": 57,
     "metadata": {},
     "output_type": "execute_result"
    }
   ],
   "source": [
    "tf.__version__"
   ]
  },
  {
   "cell_type": "code",
   "execution_count": 58,
   "metadata": {},
   "outputs": [
    {
     "name": "stdout",
     "output_type": "stream",
     "text": [
      "1/1 [==============================] - 0s 124ms/step - loss: 6.5558 - mse: 6.5558\n",
      "test_r2 = 0.05136689008017359\n",
      "train_r2 = 0.6860328224469545\n",
      "validation_r2 = 0.2578106429040692\n"
     ]
    }
   ],
   "source": [
    "import numpy as np\n",
    "test_mse = model.evaluate(x_test_scaled,y_test)[0]\n",
    "\n",
    "test_r2 = 1- test_mse / np.var(y)\n",
    "train_r2 = 1 - (history.history['mse'][-1]) / np.var(y)\n",
    "validation_r2 = 1 - (history.history['val_mse'][-1] / np.var(y))\n",
    "print(f\"test_r2 = {test_r2}\")\n",
    "print(f\"train_r2 = {train_r2}\")\n",
    "print(f\"validation_r2 = {validation_r2}\")"
   ]
  },
  {
   "cell_type": "code",
   "execution_count": 59,
   "metadata": {},
   "outputs": [
    {
     "name": "stdout",
     "output_type": "stream",
     "text": [
      "1/1 [==============================] - 0s 47ms/step - loss: 6.5558 - mse: 6.5558\n"
     ]
    },
    {
     "data": {
      "text/plain": [
       "0.05136689008017359"
      ]
     },
     "execution_count": 59,
     "metadata": {},
     "output_type": "execute_result"
    }
   ],
   "source": [
    "tf.__version__\n",
    "\n",
    "test_mse = model.evaluate(x_test_scaled,y_test)[0]\n",
    "import numpy as np\n",
    "1- test_mse / np.var(y)"
   ]
  },
  {
   "cell_type": "code",
   "execution_count": null,
   "metadata": {},
   "outputs": [],
   "source": []
  },
  {
   "cell_type": "code",
   "execution_count": null,
   "metadata": {},
   "outputs": [],
   "source": []
  },
  {
   "cell_type": "code",
   "execution_count": null,
   "metadata": {},
   "outputs": [],
   "source": []
  }
 ],
 "metadata": {
  "kernelspec": {
   "display_name": "base",
   "language": "python",
   "name": "python3"
  },
  "language_info": {
   "codemirror_mode": {
    "name": "ipython",
    "version": 3
   },
   "file_extension": ".py",
   "mimetype": "text/x-python",
   "name": "python",
   "nbconvert_exporter": "python",
   "pygments_lexer": "ipython3",
   "version": "3.10.12"
  },
  "orig_nbformat": 4
 },
 "nbformat": 4,
 "nbformat_minor": 2
}
