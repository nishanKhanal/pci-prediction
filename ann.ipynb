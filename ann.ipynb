{
 "cells": [
  {
   "cell_type": "code",
   "execution_count": 62,
   "metadata": {},
   "outputs": [],
   "source": [
    "import math\n",
    "import pandas as pd\n",
    "import tensorflow as tf\n",
    "import matplotlib.pyplot as plt\n",
    "from tensorflow.keras import Model\n",
    "from tensorflow.keras import Sequential\n",
    "from tensorflow.keras.optimizers import Adam\n",
    "from sklearn.preprocessing import StandardScaler\n",
    "from tensorflow.keras.layers import Dense, Dropout\n",
    "from sklearn.model_selection import train_test_split\n",
    "from tensorflow.keras.losses import MeanSquaredLogarithmicError, MeanSquaredError\n",
    "\n",
    "from sklearn.metrics import r2_score\n",
    "\n"
   ]
  },
  {
   "cell_type": "code",
   "execution_count": 241,
   "metadata": {},
   "outputs": [
    {
     "name": "stderr",
     "output_type": "stream",
     "text": [
      "2023-07-26 19:11:46.030922: I tensorflow/compiler/xla/stream_executor/cuda/cuda_gpu_executor.cc:995] successful NUMA node read from SysFS had negative value (-1), but there must be at least one NUMA node, so returning NUMA node zero. See more at https://github.com/torvalds/linux/blob/v6.0/Documentation/ABI/testing/sysfs-bus-pci#L344-L355\n",
      "2023-07-26 19:11:46.031368: W tensorflow/core/common_runtime/gpu/gpu_device.cc:1960] Cannot dlopen some GPU libraries. Please make sure the missing libraries mentioned above are installed properly if you would like to use GPU. Follow the guide at https://www.tensorflow.org/install/gpu for how to download and setup the required libraries for your platform.\n",
      "Skipping registering GPU devices...\n"
     ]
    }
   ],
   "source": [
    "# x_train = features, y_train = target\n",
    "\n",
    "df = pd.read_csv('new-pci-thesis-cleaned.csv')\n",
    "\n",
    "\n",
    "x = df.drop('PCI',axis=1)\n",
    "y = df.PCI\n",
    "\n",
    "\n",
    "# Seed value\n",
    "# Apparently you may use different seed values at each stage\n",
    "seed_value= 55\n",
    "\n",
    "# 1. Set the `PYTHONHASHSEED` environment variable at a fixed value\n",
    "import os\n",
    "os.environ['PYTHONHASHSEED']=str(seed_value)\n",
    "\n",
    "# 2. Set the `python` built-in pseudo-random generator at a fixed value\n",
    "import random\n",
    "random.seed(seed_value)\n",
    "\n",
    "# 3. Set the `numpy` pseudo-random generator at a fixed value\n",
    "import numpy as np\n",
    "np.random.seed(seed_value)\n",
    "\n",
    "# 4. Set the `tensorflow` pseudo-random generator at a fixed value\n",
    "import tensorflow as tf\n",
    "tf.random.set_seed(seed_value)\n",
    "# for later versions: \n",
    "# tf.compat.v1.set_random_seed(seed_value)\n",
    "\n",
    "# 5. Configure a new global `tensorflow` session\n",
    "# import keras.backend.tensorflow_backend as K\n",
    "# session_conf =  tf.compat.v1.ConfigProto(intra_op_parallelism_threads=1, inter_op_parallelism_threads=1)\n",
    "# sess = tf.compat.v1.Session(graph=tf.compat.v1.get_default_graph(), config=session_conf)\n",
    "# K.set_session(sess)\n",
    "# for later versions:\n",
    "session_conf = tf.compat.v1.ConfigProto(intra_op_parallelism_threads=1, inter_op_parallelism_threads=1)\n",
    "sess = tf.compat.v1.Session(graph=tf.compat.v1.get_default_graph(), config=session_conf)\n",
    "tf.compat.v1.keras.backend.set_session(sess)\n",
    "\n",
    "x_train, x_test, y_train, y_test = train_test_split(x, y, train_size=0.9, random_state=seed_value)"
   ]
  },
  {
   "cell_type": "code",
   "execution_count": 242,
   "metadata": {},
   "outputs": [],
   "source": [
    "def scale_datasets(x_train, x_test):\n",
    "\n",
    "  \"\"\"\n",
    "  Standard Scale test and train data\n",
    "  Z - Score normalization\n",
    "  \"\"\"\n",
    "  standard_scaler = StandardScaler()\n",
    "  x_train_scaled = pd.DataFrame(\n",
    "      standard_scaler.fit_transform(x_train),\n",
    "      columns=x_train.columns\n",
    "  )\n",
    "  x_test_scaled = pd.DataFrame(\n",
    "      standard_scaler.transform(x_test),\n",
    "      columns = x_test.columns\n",
    "  )\n",
    "  return x_train_scaled, x_test_scaled\n",
    "x_train_scaled, x_test_scaled = scale_datasets(x_train, x_test)"
   ]
  },
  {
   "cell_type": "code",
   "execution_count": 243,
   "metadata": {},
   "outputs": [],
   "source": [
    "hidden_units1 = 12\n",
    "# hidden_units2 = 12\n",
    "# hidden_units3 = 12\n",
    "# hidden_units1 = 160\n",
    "# hidden_units2 = 480\n",
    "# hidden_units3 = 256\n",
    "learning_rate = 0.01\n",
    "# Creating model using the Sequential in tensorflow\n",
    "def build_model_using_sequential():\n",
    "  model = Sequential([\n",
    "    Dense(hidden_units1, kernel_initializer='normal', activation='relu'),\n",
    "    # Dropout(0.2),\n",
    "    # Dense(hidden_units2, kernel_initializer='normal', activation='relu'),\n",
    "    # Dropout(0.2),\n",
    "    # Dense(hidden_units3, kernel_initializer='normal', activation='relu'),\n",
    "    Dense(1, kernel_initializer='normal', activation='relu')\n",
    "  ])\n",
    "  return model\n",
    "# build the model\n",
    "model = build_model_using_sequential()"
   ]
  },
  {
   "cell_type": "code",
   "execution_count": 244,
   "metadata": {},
   "outputs": [],
   "source": [
    "# import tensorflow as tf\n",
    "# from tensorflow.keras.metrics import Metric\n",
    "# from tensorflow.keras import backend as K\n",
    "\n",
    "# class R2KerasMetric(Metric):\n",
    "#     def __init__(self, name='r2_keras', **kwargs):\n",
    "#         super(R2KerasMetric, self).__init__(name=name, **kwargs)\n",
    "#         self.r2_values = self.add_weight(name='r2_values', initializer='zeros')\n",
    "#         self.total_samples = self.add_weight(name='total_samples', initializer='zeros')\n",
    "\n",
    "#     def update_state(self, y_true, y_pred, sample_weight=None):\n",
    "#         y_true_flat = tf.reshape(y_true, shape=(-1,))\n",
    "#         y_pred_flat = tf.reshape(y_pred, shape=(-1,))\n",
    "#         residual = y_true_flat - y_pred_flat\n",
    "#         ss_res = K.sum(K.square(residual))\n",
    "#         ss_tot = K.sum(K.square(y_true_flat - K.mean(y_true_flat)))\n",
    "#         r2 = 1 - ss_res / (ss_tot + K.epsilon())\n",
    "#         current_samples = tf.cast(tf.size(y_true), dtype=tf.float32)\n",
    "#         self.r2_values.assign_add(r2 * current_samples)\n",
    "#         self.total_samples.assign_add(current_samples)\n",
    "\n",
    "#     def result(self):\n",
    "#         return self.r2_values / self.total_samples\n",
    "\n",
    "#     def reset_states(self):\n",
    "#         self.r2_values.assign(0.0)\n",
    "#         self.total_samples.assign(0.0)\n",
    "\n",
    "#     # Add the variables property as required by Keras\n",
    "#     @property\n",
    "#     def variables(self):\n",
    "#         return self._collected_trainable_weights\n",
    "\n",
    "#     # Override the get_config method to avoid issues with serialization\n",
    "#     def get_config(self):\n",
    "#         return {}"
   ]
  },
  {
   "cell_type": "code",
   "execution_count": 245,
   "metadata": {},
   "outputs": [],
   "source": [
    "# def r2_keras(y_true, y_pred):\n",
    "#     r2 = r2_score(y_true, y_pred)\n",
    "#     return tf.convert_to_tensor(r2, dtype=tf.float32)  # Convert the result to a tensor\n",
    "\n",
    "\n",
    "# loss function\n",
    "msle = MeanSquaredLogarithmicError()\n",
    "mse = MeanSquaredError()\n",
    "model.compile(\n",
    "    loss=mse, \n",
    "    optimizer=Adam(learning_rate=learning_rate), \n",
    "    metrics=['mse' ]\n",
    ")\n"
   ]
  },
  {
   "cell_type": "code",
   "execution_count": 246,
   "metadata": {},
   "outputs": [
    {
     "name": "stdout",
     "output_type": "stream",
     "text": [
      "Epoch 1/40\n"
     ]
    },
    {
     "name": "stdout",
     "output_type": "stream",
     "text": [
      "8/8 [==============================] - 1s 23ms/step - loss: 3697.2749 - mse: 3697.2749 - val_loss: 3641.7209 - val_mse: 3641.7209\n",
      "Epoch 2/40\n",
      "8/8 [==============================] - 0s 6ms/step - loss: 3660.6584 - mse: 3660.6584 - val_loss: 3581.9016 - val_mse: 3581.9016\n",
      "Epoch 3/40\n",
      "8/8 [==============================] - 0s 6ms/step - loss: 3591.2478 - mse: 3591.2478 - val_loss: 3476.8630 - val_mse: 3476.8630\n",
      "Epoch 4/40\n",
      "8/8 [==============================] - 0s 6ms/step - loss: 3470.9077 - mse: 3470.9077 - val_loss: 3313.0999 - val_mse: 3313.0999\n",
      "Epoch 5/40\n",
      "8/8 [==============================] - 0s 5ms/step - loss: 3290.1553 - mse: 3290.1553 - val_loss: 3079.8389 - val_mse: 3079.8389\n",
      "Epoch 6/40\n",
      "8/8 [==============================] - 0s 6ms/step - loss: 3044.2532 - mse: 3044.2532 - val_loss: 2779.8486 - val_mse: 2779.8486\n",
      "Epoch 7/40\n",
      "8/8 [==============================] - 0s 6ms/step - loss: 2727.2603 - mse: 2727.2603 - val_loss: 2421.2014 - val_mse: 2421.2014\n",
      "Epoch 8/40\n",
      "8/8 [==============================] - 0s 6ms/step - loss: 2375.9236 - mse: 2375.9236 - val_loss: 2028.1107 - val_mse: 2028.1107\n",
      "Epoch 9/40\n",
      "8/8 [==============================] - 0s 8ms/step - loss: 1987.6642 - mse: 1987.6642 - val_loss: 1632.4740 - val_mse: 1632.4740\n",
      "Epoch 10/40\n",
      "8/8 [==============================] - 0s 9ms/step - loss: 1603.1085 - mse: 1603.1085 - val_loss: 1257.6089 - val_mse: 1257.6089\n",
      "Epoch 11/40\n",
      "8/8 [==============================] - 0s 6ms/step - loss: 1253.8671 - mse: 1253.8671 - val_loss: 934.4944 - val_mse: 934.4944\n",
      "Epoch 12/40\n",
      "8/8 [==============================] - 0s 6ms/step - loss: 962.1866 - mse: 962.1866 - val_loss: 700.5520 - val_mse: 700.5520\n",
      "Epoch 13/40\n",
      "8/8 [==============================] - 0s 6ms/step - loss: 747.9181 - mse: 747.9181 - val_loss: 546.1201 - val_mse: 546.1201\n",
      "Epoch 14/40\n",
      "8/8 [==============================] - 0s 7ms/step - loss: 609.6066 - mse: 609.6066 - val_loss: 451.9952 - val_mse: 451.9952\n",
      "Epoch 15/40\n",
      "8/8 [==============================] - 0s 6ms/step - loss: 511.7038 - mse: 511.7038 - val_loss: 387.2558 - val_mse: 387.2558\n",
      "Epoch 16/40\n",
      "8/8 [==============================] - 0s 6ms/step - loss: 437.9073 - mse: 437.9073 - val_loss: 342.5097 - val_mse: 342.5097\n",
      "Epoch 17/40\n",
      "8/8 [==============================] - 0s 5ms/step - loss: 386.3730 - mse: 386.3730 - val_loss: 304.6292 - val_mse: 304.6292\n",
      "Epoch 18/40\n",
      "8/8 [==============================] - 0s 6ms/step - loss: 344.0901 - mse: 344.0901 - val_loss: 271.2252 - val_mse: 271.2252\n",
      "Epoch 19/40\n",
      "8/8 [==============================] - 0s 6ms/step - loss: 307.9423 - mse: 307.9423 - val_loss: 243.3407 - val_mse: 243.3407\n",
      "Epoch 20/40\n",
      "8/8 [==============================] - 0s 6ms/step - loss: 279.4964 - mse: 279.4964 - val_loss: 221.0704 - val_mse: 221.0704\n",
      "Epoch 21/40\n",
      "8/8 [==============================] - 0s 6ms/step - loss: 258.9050 - mse: 258.9050 - val_loss: 205.7128 - val_mse: 205.7128\n",
      "Epoch 22/40\n",
      "8/8 [==============================] - 0s 6ms/step - loss: 242.5345 - mse: 242.5345 - val_loss: 192.1717 - val_mse: 192.1717\n",
      "Epoch 23/40\n",
      "8/8 [==============================] - 0s 6ms/step - loss: 228.0540 - mse: 228.0540 - val_loss: 182.5755 - val_mse: 182.5755\n",
      "Epoch 24/40\n",
      "8/8 [==============================] - 0s 6ms/step - loss: 216.6566 - mse: 216.6566 - val_loss: 176.1948 - val_mse: 176.1948\n",
      "Epoch 25/40\n",
      "8/8 [==============================] - 0s 6ms/step - loss: 208.0341 - mse: 208.0341 - val_loss: 171.0165 - val_mse: 171.0165\n",
      "Epoch 26/40\n",
      "8/8 [==============================] - 0s 6ms/step - loss: 200.0456 - mse: 200.0456 - val_loss: 166.1963 - val_mse: 166.1963\n",
      "Epoch 27/40\n",
      "8/8 [==============================] - 0s 7ms/step - loss: 193.9395 - mse: 193.9395 - val_loss: 163.7625 - val_mse: 163.7625\n",
      "Epoch 28/40\n",
      "8/8 [==============================] - 0s 6ms/step - loss: 188.1358 - mse: 188.1358 - val_loss: 161.8120 - val_mse: 161.8120\n",
      "Epoch 29/40\n",
      "8/8 [==============================] - 0s 6ms/step - loss: 182.9243 - mse: 182.9243 - val_loss: 159.0371 - val_mse: 159.0371\n",
      "Epoch 30/40\n",
      "8/8 [==============================] - 0s 6ms/step - loss: 178.0622 - mse: 178.0622 - val_loss: 157.2024 - val_mse: 157.2024\n",
      "Epoch 31/40\n",
      "8/8 [==============================] - 0s 7ms/step - loss: 173.6607 - mse: 173.6607 - val_loss: 155.9467 - val_mse: 155.9467\n",
      "Epoch 32/40\n",
      "8/8 [==============================] - 0s 6ms/step - loss: 169.8319 - mse: 169.8319 - val_loss: 154.0692 - val_mse: 154.0692\n",
      "Epoch 33/40\n",
      "8/8 [==============================] - 0s 6ms/step - loss: 165.3540 - mse: 165.3540 - val_loss: 152.2169 - val_mse: 152.2169\n",
      "Epoch 34/40\n",
      "8/8 [==============================] - 0s 6ms/step - loss: 162.8002 - mse: 162.8002 - val_loss: 151.2185 - val_mse: 151.2185\n",
      "Epoch 35/40\n",
      "8/8 [==============================] - 0s 6ms/step - loss: 161.0705 - mse: 161.0705 - val_loss: 149.9081 - val_mse: 149.9081\n",
      "Epoch 36/40\n",
      "8/8 [==============================] - 0s 7ms/step - loss: 158.0110 - mse: 158.0110 - val_loss: 149.0673 - val_mse: 149.0673\n",
      "Epoch 37/40\n",
      "8/8 [==============================] - 0s 7ms/step - loss: 154.1071 - mse: 154.1071 - val_loss: 146.9752 - val_mse: 146.9752\n",
      "Epoch 38/40\n",
      "8/8 [==============================] - 0s 6ms/step - loss: 150.1671 - mse: 150.1671 - val_loss: 145.1695 - val_mse: 145.1695\n",
      "Epoch 39/40\n",
      "8/8 [==============================] - 0s 6ms/step - loss: 146.9765 - mse: 146.9765 - val_loss: 143.5419 - val_mse: 143.5419\n",
      "Epoch 40/40\n",
      "8/8 [==============================] - 0s 7ms/step - loss: 144.1822 - mse: 144.1822 - val_loss: 141.7603 - val_mse: 141.7603\n"
     ]
    }
   ],
   "source": [
    "# train the model\n",
    "history = model.fit(\n",
    "    x_train_scaled.values, \n",
    "    y_train.values, \n",
    "    epochs=40, \n",
    "    batch_size=32,\n",
    "    validation_split=0.2\n",
    ")"
   ]
  },
  {
   "cell_type": "code",
   "execution_count": 247,
   "metadata": {},
   "outputs": [
    {
     "data": {
      "image/png": "[encoded data removed]",
      "text/plain": [
       "<Figure size 640x480 with 1 Axes>"
      ]
     },
     "metadata": {},
     "output_type": "display_data"
    }
   ],
   "source": [
    "def plot_history(history, key):\n",
    "  plt.plot(history.history[key])\n",
    "  plt.plot(history.history['val_'+key])\n",
    "  plt.xlabel(\"Epochs\")\n",
    "  plt.ylabel(key)\n",
    "  plt.legend([key, 'val_'+key])\n",
    "  plt.show()\n",
    "# Plot the history\n",
    "plot_history(history, 'mse')"
   ]
  },
  {
   "cell_type": "code",
   "execution_count": 248,
   "metadata": {},
   "outputs": [
    {
     "data": {
      "text/plain": [
       "'2.13.0'"
      ]
     },
     "execution_count": 248,
     "metadata": {},
     "output_type": "execute_result"
    }
   ],
   "source": [
    "tf.__version__"
   ]
  },
  {
   "cell_type": "code",
   "execution_count": 249,
   "metadata": {},
   "outputs": [
    {
     "name": "stdout",
     "output_type": "stream",
     "text": [
      "1/1 [==============================] - 0s 69ms/step\n",
      "1/1 [==============================] - 0s 120ms/step - loss: 285.7239 - mse: 285.7239\n"
     ]
    },
    {
     "data": {
      "text/plain": [
       "[285.72393798828125, 285.72393798828125]"
      ]
     },
     "execution_count": 249,
     "metadata": {},
     "output_type": "execute_result"
    }
   ],
   "source": [
    "x_test['prediction'] = model.predict(x_test_scaled)\n",
    "model.evaluate(x_test_scaled,y_test)"
   ]
  },
  {
   "cell_type": "code",
   "execution_count": 250,
   "metadata": {},
   "outputs": [
    {
     "name": "stdout",
     "output_type": "stream",
     "text": [
      "1/1 [==============================] - 0s 32ms/step - loss: 285.7239 - mse: 285.7239\n"
     ]
    },
    {
     "data": {
      "text/plain": [
       "0.38851285044919537"
      ]
     },
     "execution_count": 250,
     "metadata": {},
     "output_type": "execute_result"
    }
   ],
   "source": [
    "tf.__version__\n",
    "\n",
    "test_mse = model.evaluate(x_test_scaled,y_test)[0]\n",
    "import numpy as np\n",
    "1- test_mse / np.var(y)"
   ]
  },
  {
   "cell_type": "code",
   "execution_count": null,
   "metadata": {},
   "outputs": [],
   "source": []
  },
  {
   "cell_type": "code",
   "execution_count": null,
   "metadata": {},
   "outputs": [],
   "source": []
  },
  {
   "cell_type": "code",
   "execution_count": null,
   "metadata": {},
   "outputs": [],
   "source": []
  }
 ],
 "metadata": {
  "kernelspec": {
   "display_name": "base",
   "language": "python",
   "name": "python3"
  },
  "language_info": {
   "codemirror_mode": {
    "name": "ipython",
    "version": 3
   },
   "file_extension": ".py",
   "mimetype": "text/x-python",
   "name": "python",
   "nbconvert_exporter": "python",
   "pygments_lexer": "ipython3",
   "version": "3.10.12"
  },
  "orig_nbformat": 4
 },
 "nbformat": 4,
 "nbformat_minor": 2
}
