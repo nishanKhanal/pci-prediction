{
    "cells": [
        {
            "cell_type": "code",
            "execution_count": 23,
            "metadata": {},
            "outputs": [],
            "source": [
                "# Import necessary libraries\n",
                "import numpy as np\n",
                "import pandas as pd\n",
                "import seaborn as sns \n",
                "from pprint import pprint\n",
                "import matplotlib.pyplot as plt\n",
                "from sklearn.linear_model import LinearRegression\n",
                "from sklearn.model_selection import train_test_split\n",
                "%matplotlib inline\n"
            ]
        },
        {
            "cell_type": "code",
            "execution_count": null,
            "metadata": {},
            "outputs": [],
            "source": []
        },
        {
            "cell_type": "code",
            "execution_count": 24,
            "metadata": {},
            "outputs": [
                {
                    "name": "stdout",
                    "output_type": "stream",
                    "text": [
                        "any nan = False\n",
                        "all finite = True\n"
                    ]
                }
            ],
            "source": [
                "# Read the file named \"pci_thesis_cleaned.csv\" into a Pandas dataframe\n",
                "\n",
                "# Drop S.N and save to new csv file\n",
                "\n",
                "\n",
                "df = pd.read_csv('iri-pci.csv')\n",
                "df.drop(['S.N'],axis=1,inplace=True)\n",
                "\n",
                "# df.drop(159,axis=0,inplace=True)\n",
                "\n",
                "df.replace({'.0.16': 0.16, '0..66': 0.66, '..45': 0.45},inplace=True)\n",
                "\n",
                "df.dropna(0, inplace=True)\n",
                "# df.drop(df[df['AC3'] == '#VALUE!'].index[0], axis= 0, inplace=True)\n",
                "\n",
                "df = df.astype(float)\n",
                "print(f'any nan = {(np.any(np.isnan(df)))}')\n",
                "print(f'all finite = {(np.all(np.isfinite(df)))}')\n",
                "\n",
                "\n",
                "df.to_csv('iri-cleaned.csv',index=False)\n",
                "# Load the data set\n",
                "df = pd.read_csv('iri-cleaned.csv')"
            ]
        },
        {
            "cell_type": "code",
            "execution_count": 25,
            "metadata": {},
            "outputs": [
                {
                    "data": {
                        "text/html": [
                            "<div>\n",
                            "<style scoped>\n",
                            "    .dataframe tbody tr th:only-of-type {\n",
                            "        vertical-align: middle;\n",
                            "    }\n",
                            "\n",
                            "    .dataframe tbody tr th {\n",
                            "        vertical-align: top;\n",
                            "    }\n",
                            "\n",
                            "    .dataframe thead th {\n",
                            "        text-align: right;\n",
                            "    }\n",
                            "</style>\n",
                            "<table border=\"1\" class=\"dataframe\">\n",
                            "  <thead>\n",
                            "    <tr style=\"text-align: right;\">\n",
                            "      <th></th>\n",
                            "      <th>PCI</th>\n",
                            "      <th>IRI</th>\n",
                            "    </tr>\n",
                            "  </thead>\n",
                            "  <tbody>\n",
                            "    <tr>\n",
                            "      <th>0</th>\n",
                            "      <td>48.0</td>\n",
                            "      <td>7.10</td>\n",
                            "    </tr>\n",
                            "    <tr>\n",
                            "      <th>1</th>\n",
                            "      <td>48.0</td>\n",
                            "      <td>7.23</td>\n",
                            "    </tr>\n",
                            "    <tr>\n",
                            "      <th>2</th>\n",
                            "      <td>50.0</td>\n",
                            "      <td>6.98</td>\n",
                            "    </tr>\n",
                            "    <tr>\n",
                            "      <th>3</th>\n",
                            "      <td>50.0</td>\n",
                            "      <td>6.88</td>\n",
                            "    </tr>\n",
                            "    <tr>\n",
                            "      <th>4</th>\n",
                            "      <td>0.0</td>\n",
                            "      <td>16.25</td>\n",
                            "    </tr>\n",
                            "  </tbody>\n",
                            "</table>\n",
                            "</div>"
                        ],
                        "text/plain": [
                            "   PCI     IRI\n",
                            "0  48.0   7.10\n",
                            "1  48.0   7.23\n",
                            "2  50.0   6.98\n",
                            "3  50.0   6.88\n",
                            "4   0.0  16.25"
                        ]
                    },
                    "execution_count": 25,
                    "metadata": {},
                    "output_type": "execute_result"
                }
            ],
            "source": [
                "# Take a quick look at the dataset\n",
                "df.head()"
            ]
        },
        {
            "cell_type": "code",
            "execution_count": 26,
            "metadata": {},
            "outputs": [
                {
                    "name": "stdout",
                    "output_type": "stream",
                    "text": [
                        "<class 'pandas.core.frame.DataFrame'>\n",
                        "RangeIndex: 283 entries, 0 to 282\n",
                        "Data columns (total 2 columns):\n",
                        " #   Column  Non-Null Count  Dtype  \n",
                        "---  ------  --------------  -----  \n",
                        " 0   PCI     283 non-null    float64\n",
                        " 1   IRI     283 non-null    float64\n",
                        "dtypes: float64(2)\n",
                        "memory usage: 4.5 KB\n"
                    ]
                }
            ],
            "source": [
                "df.info()"
            ]
        },
        {
            "cell_type": "code",
            "execution_count": 27,
            "metadata": {},
            "outputs": [
                {
                    "data": {
                        "text/html": [
                            "<div>\n",
                            "<style scoped>\n",
                            "    .dataframe tbody tr th:only-of-type {\n",
                            "        vertical-align: middle;\n",
                            "    }\n",
                            "\n",
                            "    .dataframe tbody tr th {\n",
                            "        vertical-align: top;\n",
                            "    }\n",
                            "\n",
                            "    .dataframe thead th {\n",
                            "        text-align: right;\n",
                            "    }\n",
                            "</style>\n",
                            "<table border=\"1\" class=\"dataframe\">\n",
                            "  <thead>\n",
                            "    <tr style=\"text-align: right;\">\n",
                            "      <th></th>\n",
                            "      <th>PCI</th>\n",
                            "      <th>IRI</th>\n",
                            "    </tr>\n",
                            "  </thead>\n",
                            "  <tbody>\n",
                            "    <tr>\n",
                            "      <th>count</th>\n",
                            "      <td>283.000000</td>\n",
                            "      <td>283.000000</td>\n",
                            "    </tr>\n",
                            "    <tr>\n",
                            "      <th>mean</th>\n",
                            "      <td>62.164311</td>\n",
                            "      <td>5.070177</td>\n",
                            "    </tr>\n",
                            "    <tr>\n",
                            "      <th>std</th>\n",
                            "      <td>18.642361</td>\n",
                            "      <td>2.633501</td>\n",
                            "    </tr>\n",
                            "    <tr>\n",
                            "      <th>min</th>\n",
                            "      <td>0.000000</td>\n",
                            "      <td>0.560000</td>\n",
                            "    </tr>\n",
                            "    <tr>\n",
                            "      <th>25%</th>\n",
                            "      <td>50.000000</td>\n",
                            "      <td>2.950000</td>\n",
                            "    </tr>\n",
                            "    <tr>\n",
                            "      <th>50%</th>\n",
                            "      <td>62.000000</td>\n",
                            "      <td>4.900000</td>\n",
                            "    </tr>\n",
                            "    <tr>\n",
                            "      <th>75%</th>\n",
                            "      <td>76.000000</td>\n",
                            "      <td>6.560000</td>\n",
                            "    </tr>\n",
                            "    <tr>\n",
                            "      <th>max</th>\n",
                            "      <td>100.000000</td>\n",
                            "      <td>16.250000</td>\n",
                            "    </tr>\n",
                            "  </tbody>\n",
                            "</table>\n",
                            "</div>"
                        ],
                        "text/plain": [
                            "             PCI          IRI\n",
                            "count  283.000000  283.000000\n",
                            "mean    62.164311    5.070177\n",
                            "std     18.642361    2.633501\n",
                            "min      0.000000    0.560000\n",
                            "25%     50.000000    2.950000\n",
                            "50%     62.000000    4.900000\n",
                            "75%     76.000000    6.560000\n",
                            "max    100.000000   16.250000"
                        ]
                    },
                    "execution_count": 27,
                    "metadata": {},
                    "output_type": "execute_result"
                }
            ],
            "source": [
                "df.describe()"
            ]
        },
        {
            "attachments": {},
            "cell_type": "markdown",
            "metadata": {},
            "source": [
                "#### Creation of Linear Regression Objects"
            ]
        },
        {
            "cell_type": "code",
            "execution_count": 28,
            "metadata": {},
            "outputs": [],
            "source": [
                "# Choose all the predictors as the variable 'X' (note capitalization of X for multiple features)\n",
                "X = df.drop(['IRI'],axis=1)\n",
                "\n",
                "# Choose the response variable 'y' \n",
                "y = df.IRI\n",
                "\n"
            ]
        },
        {
            "cell_type": "code",
            "execution_count": 29,
            "metadata": {},
            "outputs": [
                {
                    "data": {
                        "image/png": "[encoded data removed]",
                        "text/plain": [
                            "<Figure size 1440x720 with 2 Axes>"
                        ]
                    },
                    "metadata": {
                        "needs_background": "light"
                    },
                    "output_type": "display_data"
                }
            ],
            "source": [
                "# Helper code to visualize the heatmap of the covariance matrix\n",
                "corrMatrix = df.corr() \n",
                "fig, ax = plt.subplots(figsize=(20,10))\n",
                "sns.heatmap(corrMatrix, annot=True, ax=ax) \n",
                "plt.show()"
            ]
        },
        {
            "cell_type": "code",
            "execution_count": 13,
            "metadata": {},
            "outputs": [
                {
                    "data": {
                        "text/plain": [
                            "<seaborn.axisgrid.PairGrid at 0x7f58e0fe9950>"
                        ]
                    },
                    "execution_count": 13,
                    "metadata": {},
                    "output_type": "execute_result"
                },
                {
                    "data": {
                        "image/png": "[encoded data removed]",
                        "text/plain": [
                            "<Figure size 360x360 with 6 Axes>"
                        ]
                    },
                    "metadata": {
                        "needs_background": "light"
                    },
                    "output_type": "display_data"
                }
            ],
            "source": [
                "\n",
                "sns.pairplot(df)\n"
            ]
        },
        {
            "cell_type": "code",
            "execution_count": 14,
            "metadata": {},
            "outputs": [],
            "source": [
                "X_train, X_test, y_train, y_test = train_test_split(X,y, train_size=0.8, random_state=1)"
            ]
        },
        {
            "cell_type": "code",
            "execution_count": 22,
            "metadata": {},
            "outputs": [
                {
                    "data": {
                        "text/plain": [
                            "0.9582751791238531"
                        ]
                    },
                    "execution_count": 22,
                    "metadata": {},
                    "output_type": "execute_result"
                }
            ],
            "source": [
                "\n",
                "# Initialize a list to store the beta values for each linear regression model\n",
                "\n",
                "\n",
                "# Loop over all the predictors\n",
                "# In each loop \"i\" holds the name of the predictor \n",
                "    \n",
                "# Set the current predictor as the variable x_train\n",
                "\n",
                "# Create a linear regression object\n",
                "linreg = LinearRegression()\n",
                "\n",
                "# Fit the model with training data \n",
                "# Remember to choose only one column at a time i.e. given by x_train (not X_train)\n",
                "linreg.fit(X_train,y_train)\n",
                "\n",
                "# Add the coefficient value of the model to the list\n",
                "linreg.coef_\n",
                "linreg.score(X_test, y_test)\n",
                "\n"
            ]
        },
        {
            "cell_type": "code",
            "execution_count": 17,
            "metadata": {},
            "outputs": [],
            "source": [
                "# nan_index = []\n",
                "# # Get index of nan values in all columns\n",
                "# for column in df.columns:\n",
                "#     nan_index.add( list(df[column].index[df[column].apply(np.isnan)]))\n",
                "# nan_index"
            ]
        },
        {
            "attachments": {},
            "cell_type": "markdown",
            "metadata": {},
            "source": [
                "### Multi-Linear Regression using all variables"
            ]
        },
        {
            "cell_type": "code",
            "execution_count": 19,
            "metadata": {},
            "outputs": [
                {
                    "name": "stdout",
                    "output_type": "stream",
                    "text": [
                        "[ 1.04402334e-01  9.05520620e-01  1.54636738e+00  4.35506044e-01\n",
                        "  1.17226438e-01  3.15143921e-01  8.17138006e-01 -6.31359587e-03\n",
                        "  3.15105435e-01  5.50813655e-01  4.09893427e-01  1.77009624e+00\n",
                        " -2.49280747e-01 -2.99132875e-03  5.15247895e-01  4.63844089e+00\n",
                        "  8.34008486e+00  1.16573550e+01 -1.63606134e-01  4.43322127e-01\n",
                        "  1.64598082e+00  3.89153961e-01  3.76249247e-01  5.07516571e-01]\n"
                    ]
                },
                {
                    "data": {
                        "text/plain": [
                            "0.24756251897763815"
                        ]
                    },
                    "execution_count": 19,
                    "metadata": {},
                    "output_type": "execute_result"
                }
            ],
            "source": [
                "\n",
                "# Perform multi-linear regression with all predictors\n",
                "multi_linear = LinearRegression()\n",
                "\n",
                "# Fit the multi-linear regression on all features of the entire data\n",
                "multi_linear.fit(X_train,y_train)\n",
                "\n",
                "# Get the coefficients (plural) of the model\n",
                "multi_coef = multi_linear.coef_\n",
                "print(multi_coef)\n",
                "multi_linear.score(X_test,y_test)\n"
            ]
        },
        {
            "attachments": {},
            "cell_type": "markdown",
            "metadata": {},
            "source": [
                "#### Printing the individual $\\beta$ values"
            ]
        },
        {
            "cell_type": "code",
            "execution_count": 202,
            "metadata": {},
            "outputs": [
                {
                    "name": "stdout",
                    "output_type": "stream",
                    "text": [
                        "By simple(one variable) linear regression for each variable:\n",
                        "'Value of beta1 = 3.61'\n",
                        "'Value of beta2 = -2.89'\n",
                        "'Value of beta3 = -10.95'\n",
                        "'Value of beta4 = -3.49'\n"
                    ]
                }
            ],
            "source": []
        },
        {
            "cell_type": "code",
            "execution_count": null,
            "metadata": {},
            "outputs": [],
            "source": []
        }
    ],
    "metadata": {
        "kernelspec": {
            "display_name": "Python 3 (ipykernel)",
            "language": "python",
            "name": "python3"
        },
        "language_info": {
            "codemirror_mode": {
                "name": "ipython",
                "version": 3
            },
            "file_extension": ".py",
            "mimetype": "text/x-python",
            "name": "python",
            "nbconvert_exporter": "python",
            "pygments_lexer": "ipython3",
            "version": "3.7.4"
        }
    },
    "nbformat": 4,
    "nbformat_minor": 4
}
